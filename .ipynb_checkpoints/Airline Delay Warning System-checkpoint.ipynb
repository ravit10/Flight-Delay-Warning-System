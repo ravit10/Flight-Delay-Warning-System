{
 "cells": [
  {
   "cell_type": "markdown",
   "metadata": {},
   "source": [
    "## Objective:\n",
    "Given the scheduled/actual departure time and delays, whether a flight will get delayed or not. Delay threshold used for this dataset is 0 minutes (That is, if a flight is even 1 minute over its scheduled arrival time it will be classified as delayed)."
   ]
  },
  {
   "cell_type": "code",
   "execution_count": 2,
   "metadata": {},
   "outputs": [],
   "source": [
    "# import libraries\n",
    "import numpy as np\n",
    "import pandas as pd\n",
    "import glob, os\n",
    "from datetime import datetime as dt\n",
    "from sklearn.model_selection import KFold\n",
    "from sklearn import metrics\n",
    "from sklearn.linear_model import LogisticRegression\n",
    "from sklearn.tree import DecisionTreeClassifier\n",
    "from sklearn.ensemble import RandomForestClassifier\n",
    "import seaborn as sns\n",
    "import matplotlib.pyplot as plt\n",
    "%matplotlib inline"
   ]
  },
  {
   "cell_type": "markdown",
   "metadata": {},
   "source": [
    "# Reading Dataset"
   ]
  },
  {
   "cell_type": "code",
   "execution_count": 3,
   "metadata": {},
   "outputs": [],
   "source": [
    "# Read all csv data\n",
    "path = # Your Path to the Dataset\n",
    "all_files = glob.glob(os.path.join(path, '*.csv'))\n",
    "\n",
    "# Get all header names\n",
    "data_headers = pd.concat((pd.read_csv(file, header = None, nrows = 1) for file in all_files), ignore_index = True)"
   ]
  },
  {
   "cell_type": "code",
   "execution_count": 4,
   "metadata": {},
   "outputs": [
    {
     "data": {
      "text/plain": [
       "array(['YEAR', 'QUARTER', 'MONTH', 'DAY_OF_MONTH', 'DAY_OF_WEEK',\n",
       "       'FL_DATE', 'UNIQUE_CARRIER', 'AIRLINE_ID', 'CARRIER', 'TAIL_NUM',\n",
       "       'FL_NUM', 'ORIGIN_AIRPORT_ID', 'ORIGIN_AIRPORT_SEQ_ID',\n",
       "       'ORIGIN_CITY_MARKET_ID', 'ORIGIN', 'ORIGIN_CITY_NAME',\n",
       "       'ORIGIN_STATE_ABR', 'ORIGIN_STATE_FIPS', 'ORIGIN_STATE_NM',\n",
       "       'ORIGIN_WAC', 'DEST_AIRPORT_ID', 'DEST_AIRPORT_SEQ_ID',\n",
       "       'DEST_CITY_MARKET_ID', 'DEST', 'DEST_CITY_NAME', 'DEST_STATE_ABR',\n",
       "       'DEST_STATE_FIPS', 'DEST_STATE_NM', 'DEST_WAC', 'CRS_DEP_TIME',\n",
       "       'DEP_TIME', 'DEP_DELAY', 'DEP_DELAY_NEW', 'DEP_DEL15',\n",
       "       'DEP_DELAY_GROUP', 'DEP_TIME_BLK', 'TAXI_OUT', 'WHEELS_OFF',\n",
       "       'WHEELS_ON', 'TAXI_IN', 'CRS_ARR_TIME', 'ARR_TIME', 'ARR_DELAY',\n",
       "       'ARR_DELAY_NEW', 'ARR_DEL15', 'ARR_DELAY_GROUP', 'ARR_TIME_BLK',\n",
       "       'CANCELLED', 'CANCELLATION_CODE', 'DIVERTED', 'CRS_ELAPSED_TIME',\n",
       "       'ACTUAL_ELAPSED_TIME', 'AIR_TIME', 'FLIGHTS', 'DISTANCE',\n",
       "       'DISTANCE_GROUP', 'CARRIER_DELAY', 'WEATHER_DELAY', 'NAS_DELAY',\n",
       "       'SECURITY_DELAY', 'LATE_AIRCRAFT_DELAY', 'FIRST_DEP_TIME',\n",
       "       'TOTAL_ADD_GTIME', 'LONGEST_ADD_GTIME', nan], dtype=object)"
      ]
     },
     "execution_count": 4,
     "metadata": {},
     "output_type": "execute_result"
    }
   ],
   "source": [
    "data_headers.iloc[0,:].values"
   ]
  },
  {
   "cell_type": "code",
   "execution_count": 5,
   "metadata": {},
   "outputs": [],
   "source": [
    "# Select subset of columns\n",
    "col_names = ['YEAR', 'QUARTER', 'MONTH', 'DAY_OF_MONTH', 'DAY_OF_WEEK',\n",
    "       'FL_DATE', 'UNIQUE_CARRIER', 'AIRLINE_ID', 'CARRIER', 'TAIL_NUM',\n",
    "       'FL_NUM', 'ORIGIN_AIRPORT_ID', 'ORIGIN', 'ORIGIN_CITY_NAME',\n",
    "       'ORIGIN_STATE_ABR', 'ORIGIN_STATE_NM', 'DEST_AIRPORT_ID', 'DEST', 'DEST_CITY_NAME', 'DEST_STATE_ABR',\n",
    "       'DEST_STATE_NM', 'CRS_DEP_TIME',\n",
    "       'DEP_TIME', 'DEP_DELAY_NEW', 'DEP_DEL15',\n",
    "       'DEP_DELAY_GROUP', 'CRS_ARR_TIME', 'ARR_TIME',\n",
    "       'ARR_DELAY_NEW', 'ARR_DEL15', 'ARR_DELAY_GROUP', 'CRS_ELAPSED_TIME',\n",
    "       'ACTUAL_ELAPSED_TIME', 'AIR_TIME', 'FLIGHTS', 'DISTANCE']"
   ]
  },
  {
   "cell_type": "code",
   "execution_count": 6,
   "metadata": {},
   "outputs": [],
   "source": [
    "# Read all data based on the subset of columns\n",
    "data = pd.concat((pd.read_csv(file, usecols = col_names) for file in all_files), ignore_index = True)"
   ]
  },
  {
   "cell_type": "markdown",
   "metadata": {},
   "source": [
    "# Data Exploration / Analysis"
   ]
  },
  {
   "cell_type": "code",
   "execution_count": 8,
   "metadata": {},
   "outputs": [
    {
     "data": {
      "text/plain": [
       "(5819079, 36)"
      ]
     },
     "execution_count": 8,
     "metadata": {},
     "output_type": "execute_result"
    }
   ],
   "source": [
    "data.shape"
   ]
  },
  {
   "cell_type": "code",
   "execution_count": 9,
   "metadata": {},
   "outputs": [
    {
     "data": {
      "text/plain": [
       "Index(['YEAR', 'QUARTER', 'MONTH', 'DAY_OF_MONTH', 'DAY_OF_WEEK', 'FL_DATE',\n",
       "       'UNIQUE_CARRIER', 'AIRLINE_ID', 'CARRIER', 'TAIL_NUM', 'FL_NUM',\n",
       "       'ORIGIN_AIRPORT_ID', 'ORIGIN', 'ORIGIN_CITY_NAME', 'ORIGIN_STATE_ABR',\n",
       "       'ORIGIN_STATE_NM', 'DEST_AIRPORT_ID', 'DEST', 'DEST_CITY_NAME',\n",
       "       'DEST_STATE_ABR', 'DEST_STATE_NM', 'CRS_DEP_TIME', 'DEP_TIME',\n",
       "       'DEP_DELAY_NEW', 'DEP_DEL15', 'DEP_DELAY_GROUP', 'CRS_ARR_TIME',\n",
       "       'ARR_TIME', 'ARR_DELAY_NEW', 'ARR_DEL15', 'ARR_DELAY_GROUP',\n",
       "       'CRS_ELAPSED_TIME', 'ACTUAL_ELAPSED_TIME', 'AIR_TIME', 'FLIGHTS',\n",
       "       'DISTANCE'],\n",
       "      dtype='object')"
      ]
     },
     "execution_count": 9,
     "metadata": {},
     "output_type": "execute_result"
    }
   ],
   "source": [
    "data.columns"
   ]
  },
  {
   "cell_type": "markdown",
   "metadata": {},
   "source": [
    "#### Create column FL_DELAYED to be used as output label for classification"
   ]
  },
  {
   "cell_type": "code",
   "execution_count": 10,
   "metadata": {},
   "outputs": [],
   "source": [
    "data['FL_DELAYED'] = np.where(data['ARR_DELAY_NEW'] > 0.0, 1, 0)"
   ]
  },
  {
   "cell_type": "code",
   "execution_count": 11,
   "metadata": {},
   "outputs": [
    {
     "data": {
      "text/plain": [
       "0    3732183\n",
       "1    2086896\n",
       "Name: FL_DELAYED, dtype: int64"
      ]
     },
     "execution_count": 11,
     "metadata": {},
     "output_type": "execute_result"
    }
   ],
   "source": [
    "data['FL_DELAYED'].value_counts()"
   ]
  },
  {
   "cell_type": "markdown",
   "metadata": {},
   "source": [
    "#### Check missing values in the dataset"
   ]
  },
  {
   "cell_type": "code",
   "execution_count": 12,
   "metadata": {},
   "outputs": [
    {
     "data": {
      "text/plain": [
       "YEAR                        0\n",
       "QUARTER                     0\n",
       "MONTH                       0\n",
       "DAY_OF_MONTH                0\n",
       "DAY_OF_WEEK                 0\n",
       "FL_DATE                     0\n",
       "UNIQUE_CARRIER              0\n",
       "AIRLINE_ID                  0\n",
       "CARRIER                     0\n",
       "TAIL_NUM                14721\n",
       "FL_NUM                      0\n",
       "ORIGIN_AIRPORT_ID           0\n",
       "ORIGIN                      0\n",
       "ORIGIN_CITY_NAME            0\n",
       "ORIGIN_STATE_ABR            0\n",
       "ORIGIN_STATE_NM             0\n",
       "DEST_AIRPORT_ID             0\n",
       "DEST                        0\n",
       "DEST_CITY_NAME              0\n",
       "DEST_STATE_ABR              0\n",
       "DEST_STATE_NM               0\n",
       "CRS_DEP_TIME                0\n",
       "DEP_TIME                86153\n",
       "DEP_DELAY_NEW           86153\n",
       "DEP_DEL15               86153\n",
       "DEP_DELAY_GROUP         86153\n",
       "CRS_ARR_TIME                0\n",
       "ARR_TIME                92513\n",
       "ARR_DELAY_NEW          105071\n",
       "ARR_DEL15              105071\n",
       "ARR_DELAY_GROUP        105071\n",
       "CRS_ELAPSED_TIME            6\n",
       "ACTUAL_ELAPSED_TIME    105071\n",
       "AIR_TIME               105071\n",
       "FLIGHTS                     0\n",
       "DISTANCE                    0\n",
       "FL_DELAYED                  0\n",
       "dtype: int64"
      ]
     },
     "execution_count": 12,
     "metadata": {},
     "output_type": "execute_result"
    }
   ],
   "source": [
    "data.isnull().sum()"
   ]
  },
  {
   "cell_type": "markdown",
   "metadata": {},
   "source": [
    "#### Some time values show 2400 (24:00) hours for midnight. Converting them to standard 0000 (00:00) hours."
   ]
  },
  {
   "cell_type": "code",
   "execution_count": 13,
   "metadata": {},
   "outputs": [],
   "source": [
    "data['DEP_TIME'].replace(to_replace=2400.0, value=0.0, inplace=True)"
   ]
  },
  {
   "cell_type": "code",
   "execution_count": 14,
   "metadata": {},
   "outputs": [],
   "source": [
    "data['CRS_ARR_TIME'].replace(to_replace=2400.0, value=0.0, inplace=True)"
   ]
  },
  {
   "cell_type": "code",
   "execution_count": 15,
   "metadata": {},
   "outputs": [],
   "source": [
    "data['ARR_TIME'].replace(to_replace=2400.0, value=0.0, inplace=True)"
   ]
  },
  {
   "cell_type": "markdown",
   "metadata": {},
   "source": [
    "#### Convert integer/float time values into hh:mm:ss timestamp format."
   ]
  },
  {
   "cell_type": "code",
   "execution_count": 16,
   "metadata": {},
   "outputs": [],
   "source": [
    "data['CRS_DEP_TIMESTAMP'] = (pd.to_timedelta(data['CRS_DEP_TIME']//100, unit='h')\n",
    "                             + pd.to_timedelta(data['CRS_DEP_TIME']%100, unit='m'))"
   ]
  },
  {
   "cell_type": "code",
   "execution_count": 17,
   "metadata": {},
   "outputs": [],
   "source": [
    "data['DEP_TIMESTAMP'] = (pd.to_timedelta(data['DEP_TIME']//100, unit='h') \n",
    "                         + pd.to_timedelta(data['DEP_TIME']%100, unit='m'))"
   ]
  },
  {
   "cell_type": "code",
   "execution_count": 18,
   "metadata": {},
   "outputs": [],
   "source": [
    "data['CRS_ARR_TIMESTAMP'] = (pd.to_timedelta(data['CRS_ARR_TIME']//100, unit='h') \n",
    "                             + pd.to_timedelta(data['CRS_ARR_TIME']%100, unit='m'))"
   ]
  },
  {
   "cell_type": "code",
   "execution_count": 19,
   "metadata": {},
   "outputs": [],
   "source": [
    "data['ARR_TIMESTAMP'] = (pd.to_timedelta(data['ARR_TIME']//100, unit='h') \n",
    "                         + pd.to_timedelta(data['ARR_TIME']%100, unit='m'))"
   ]
  },
  {
   "cell_type": "markdown",
   "metadata": {},
   "source": [
    "#### Convert FL_DATE from String to Date format"
   ]
  },
  {
   "cell_type": "code",
   "execution_count": 20,
   "metadata": {},
   "outputs": [],
   "source": [
    "data['FL_DT'] = pd.to_datetime(data['FL_DATE'])"
   ]
  },
  {
   "cell_type": "markdown",
   "metadata": {},
   "source": [
    "### Imputing Missing Data"
   ]
  },
  {
   "cell_type": "code",
   "execution_count": 24,
   "metadata": {},
   "outputs": [
    {
     "data": {
      "text/plain": [
       "1.8056293788071962"
      ]
     },
     "execution_count": 24,
     "metadata": {},
     "output_type": "execute_result"
    }
   ],
   "source": [
    "# % of rows with Null values for ARR_DELAY_NEW\n",
    "(len(data[data['ARR_DELAY_NEW'].isnull()]) / len(data['ARR_DELAY_NEW'])) * 100"
   ]
  },
  {
   "cell_type": "code",
   "execution_count": 25,
   "metadata": {},
   "outputs": [],
   "source": [
    "# Removing rows with Null values for ARR_DELAY_NEW (since less than 2% data is missing)\n",
    "cleaned_data = pd.DataFrame(data[data['ARR_DELAY_NEW'].notnull()])"
   ]
  },
  {
   "cell_type": "code",
   "execution_count": 26,
   "metadata": {},
   "outputs": [
    {
     "data": {
      "text/plain": [
       "YEAR                   0\n",
       "QUARTER                0\n",
       "MONTH                  0\n",
       "DAY_OF_MONTH           0\n",
       "DAY_OF_WEEK            0\n",
       "FL_DATE                0\n",
       "UNIQUE_CARRIER         0\n",
       "AIRLINE_ID             0\n",
       "CARRIER                0\n",
       "TAIL_NUM               0\n",
       "FL_NUM                 0\n",
       "ORIGIN_AIRPORT_ID      0\n",
       "ORIGIN                 0\n",
       "ORIGIN_CITY_NAME       0\n",
       "ORIGIN_STATE_ABR       0\n",
       "ORIGIN_STATE_NM        0\n",
       "DEST_AIRPORT_ID        0\n",
       "DEST                   0\n",
       "DEST_CITY_NAME         0\n",
       "DEST_STATE_ABR         0\n",
       "DEST_STATE_NM          0\n",
       "CRS_DEP_TIME           0\n",
       "DEP_TIME               0\n",
       "DEP_DELAY_NEW          0\n",
       "DEP_DEL15              0\n",
       "DEP_DELAY_GROUP        0\n",
       "CRS_ARR_TIME           0\n",
       "ARR_TIME               0\n",
       "ARR_DELAY_NEW          0\n",
       "ARR_DEL15              0\n",
       "ARR_DELAY_GROUP        0\n",
       "CRS_ELAPSED_TIME       0\n",
       "ACTUAL_ELAPSED_TIME    0\n",
       "AIR_TIME               0\n",
       "FLIGHTS                0\n",
       "DISTANCE               0\n",
       "FL_DELAYED             0\n",
       "CRS_DEP_TIMESTAMP      0\n",
       "DEP_TIMESTAMP          0\n",
       "CRS_ARR_TIMESTAMP      0\n",
       "ARR_TIMESTAMP          0\n",
       "FL_DT                  0\n",
       "dtype: int64"
      ]
     },
     "execution_count": 26,
     "metadata": {},
     "output_type": "execute_result"
    }
   ],
   "source": [
    "# Sanity check for null values\n",
    "cleaned_data.isnull().sum()"
   ]
  },
  {
   "cell_type": "markdown",
   "metadata": {},
   "source": [
    "#### Class distribution for FL_DELAYED (target feature)"
   ]
  },
  {
   "cell_type": "code",
   "execution_count": 71,
   "metadata": {},
   "outputs": [
    {
     "data": {
      "image/png": "[encoded data removed]",
      "text/plain": [
       "<matplotlib.figure.Figure at 0x1a581409780>"
      ]
     },
     "metadata": {},
     "output_type": "display_data"
    }
   ],
   "source": [
    "f, ax = plt.subplots(1, 1)\n",
    "ax = sns.countplot(x='FL_DELAYED', data=cleaned_data, palette='hls')\n",
    "\n",
    "for p, label in zip(ax.patches, cleaned_data.groupby('FL_DELAYED').size().transform(lambda x: x/sum(x) * 100)):\n",
    "    ax.annotate(str(round(label,2))+'%', (p.get_x()+0.375, p.get_height()+0.15))\n",
    "\n",
    "ax.set_title('Flights: Not Delayed (0) vs. Delayed (1)')\n",
    "plt.show()"
   ]
  },
  {
   "cell_type": "markdown",
   "metadata": {},
   "source": [
    "##### Inference: \n",
    "- Flight Delay Distribution:\n",
    "    - Not Delayed = 63.48%\n",
    "    - Delayed = 36.52%"
   ]
  },
  {
   "cell_type": "code",
   "execution_count": 64,
   "metadata": {},
   "outputs": [
    {
     "data": {
      "text/html": [
       "<div>\n",
       "<style scoped>\n",
       "    .dataframe tbody tr th:only-of-type {\n",
       "        vertical-align: middle;\n",
       "    }\n",
       "\n",
       "    .dataframe tbody tr th {\n",
       "        vertical-align: top;\n",
       "    }\n",
       "\n",
       "    .dataframe thead th {\n",
       "        text-align: right;\n",
       "    }\n",
       "</style>\n",
       "<table border=\"1\" class=\"dataframe\">\n",
       "  <thead>\n",
       "    <tr style=\"text-align: right;\">\n",
       "      <th></th>\n",
       "      <th>DEP_DELAY_NEW</th>\n",
       "      <th>ARR_DELAY_NEW</th>\n",
       "      <th>AIR_TIME</th>\n",
       "      <th>DISTANCE</th>\n",
       "    </tr>\n",
       "    <tr>\n",
       "      <th>FL_DELAYED</th>\n",
       "      <th></th>\n",
       "      <th></th>\n",
       "      <th></th>\n",
       "      <th></th>\n",
       "    </tr>\n",
       "  </thead>\n",
       "  <tbody>\n",
       "    <tr>\n",
       "      <th>0</th>\n",
       "      <td>0.980439</td>\n",
       "      <td>0.00000</td>\n",
       "      <td>112.128135</td>\n",
       "      <td>825.348605</td>\n",
       "    </tr>\n",
       "    <tr>\n",
       "      <th>1</th>\n",
       "      <td>31.267001</td>\n",
       "      <td>33.11299</td>\n",
       "      <td>115.916197</td>\n",
       "      <td>822.907088</td>\n",
       "    </tr>\n",
       "  </tbody>\n",
       "</table>\n",
       "</div>"
      ],
      "text/plain": [
       "            DEP_DELAY_NEW  ARR_DELAY_NEW    AIR_TIME    DISTANCE\n",
       "FL_DELAYED                                                      \n",
       "0                0.980439        0.00000  112.128135  825.348605\n",
       "1               31.267001       33.11299  115.916197  822.907088"
      ]
     },
     "execution_count": 64,
     "metadata": {},
     "output_type": "execute_result"
    }
   ],
   "source": [
    "cleaned_data.loc[:,['CRS_DEP_TIMESTAMP', 'DEP_TIMESTAMP', 'DEP_DELAY_NEW', 'CRS_ARR_TIMESTAMP',\n",
    "                   'ARR_TIMESTAMP', 'ARR_DELAY_NEW', 'AIR_TIME', 'DISTANCE']].groupby(cleaned_data['FL_DELAYED']).mean()"
   ]
  },
  {
   "cell_type": "markdown",
   "metadata": {},
   "source": [
    "##### Inference: \n",
    "- Average Arrival delay is 33 minutes. \n",
    "- Average Air Time for delayed flights is higher than non-delayed flights. \n",
    "- Average Distance travelled by delayed flights is less than non-delayed flights."
   ]
  },
  {
   "cell_type": "code",
   "execution_count": 417,
   "metadata": {},
   "outputs": [
    {
     "data": {
      "text/plain": [
       "count    2086896.000000\n",
       "mean          33.112990\n",
       "std           52.942508\n",
       "min            1.000000\n",
       "25%            6.000000\n",
       "50%           15.000000\n",
       "75%           38.000000\n",
       "max         1971.000000\n",
       "Name: ARR_DELAY_NEW, dtype: object"
      ]
     },
     "execution_count": 417,
     "metadata": {},
     "output_type": "execute_result"
    }
   ],
   "source": [
    "cleaned_data[cleaned_data['ARR_DELAY_NEW'] > 0].loc[:,'ARR_DELAY_NEW'].describe().apply(lambda x: format(x,'f'))"
   ]
  },
  {
   "cell_type": "code",
   "execution_count": 401,
   "metadata": {},
   "outputs": [
    {
     "data": {
      "text/plain": [
       "85443"
      ]
     },
     "execution_count": 401,
     "metadata": {},
     "output_type": "execute_result"
    }
   ],
   "source": [
    "len(cleaned_data[cleaned_data['ARR_DELAY_NEW'] > 139])"
   ]
  },
  {
   "cell_type": "markdown",
   "metadata": {},
   "source": [
    "##### Inference:  \n",
    "- As per the descriptive statistics, much of the delay time (~98.5%) is observed within 139 minutes (2 std. deviations)."
   ]
  },
  {
   "cell_type": "code",
   "execution_count": 422,
   "metadata": {
    "collapsed": true
   },
   "outputs": [
    {
     "data": {
      "text/html": [
       "<div>\n",
       "<style scoped>\n",
       "    .dataframe tbody tr th:only-of-type {\n",
       "        vertical-align: middle;\n",
       "    }\n",
       "\n",
       "    .dataframe tbody tr th {\n",
       "        vertical-align: top;\n",
       "    }\n",
       "\n",
       "    .dataframe thead th {\n",
       "        text-align: right;\n",
       "    }\n",
       "</style>\n",
       "<table border=\"1\" class=\"dataframe\">\n",
       "  <thead>\n",
       "    <tr style=\"text-align: right;\">\n",
       "      <th></th>\n",
       "      <th></th>\n",
       "      <th>DEP_DELAY_NEW</th>\n",
       "      <th>ARR_DELAY_NEW</th>\n",
       "      <th>AIR_TIME</th>\n",
       "      <th>DISTANCE</th>\n",
       "    </tr>\n",
       "    <tr>\n",
       "      <th>UNIQUE_CARRIER</th>\n",
       "      <th>FL_DELAYED</th>\n",
       "      <th></th>\n",
       "      <th></th>\n",
       "      <th></th>\n",
       "      <th></th>\n",
       "    </tr>\n",
       "  </thead>\n",
       "  <tbody>\n",
       "    <tr>\n",
       "      <th rowspan=\"2\" valign=\"top\">AA</th>\n",
       "      <th>0</th>\n",
       "      <td>0.944312</td>\n",
       "      <td>0.000000</td>\n",
       "      <td>137.749305</td>\n",
       "      <td>1041.007670</td>\n",
       "    </tr>\n",
       "    <tr>\n",
       "      <th>1</th>\n",
       "      <td>31.461369</td>\n",
       "      <td>34.148364</td>\n",
       "      <td>143.564096</td>\n",
       "      <td>1044.866232</td>\n",
       "    </tr>\n",
       "    <tr>\n",
       "      <th rowspan=\"2\" valign=\"top\">AS</th>\n",
       "      <th>0</th>\n",
       "      <td>0.602327</td>\n",
       "      <td>0.000000</td>\n",
       "      <td>159.613289</td>\n",
       "      <td>1231.691464</td>\n",
       "    </tr>\n",
       "    <tr>\n",
       "      <th>1</th>\n",
       "      <td>18.470528</td>\n",
       "      <td>22.562411</td>\n",
       "      <td>154.289765</td>\n",
       "      <td>1132.337050</td>\n",
       "    </tr>\n",
       "    <tr>\n",
       "      <th rowspan=\"2\" valign=\"top\">B6</th>\n",
       "      <th>0</th>\n",
       "      <td>1.094005</td>\n",
       "      <td>0.000000</td>\n",
       "      <td>137.888506</td>\n",
       "      <td>1030.343349</td>\n",
       "    </tr>\n",
       "    <tr>\n",
       "      <th>1</th>\n",
       "      <td>35.635091</td>\n",
       "      <td>38.132807</td>\n",
       "      <td>153.225936</td>\n",
       "      <td>1114.370350</td>\n",
       "    </tr>\n",
       "    <tr>\n",
       "      <th rowspan=\"2\" valign=\"top\">DL</th>\n",
       "      <th>0</th>\n",
       "      <td>1.022506</td>\n",
       "      <td>0.000000</td>\n",
       "      <td>113.360538</td>\n",
       "      <td>845.022508</td>\n",
       "    </tr>\n",
       "    <tr>\n",
       "      <th>1</th>\n",
       "      <td>30.642948</td>\n",
       "      <td>32.077424</td>\n",
       "      <td>121.356961</td>\n",
       "      <td>874.771153</td>\n",
       "    </tr>\n",
       "    <tr>\n",
       "      <th rowspan=\"2\" valign=\"top\">EV</th>\n",
       "      <th>0</th>\n",
       "      <td>0.469928</td>\n",
       "      <td>0.000000</td>\n",
       "      <td>70.645594</td>\n",
       "      <td>454.486940</td>\n",
       "    </tr>\n",
       "    <tr>\n",
       "      <th>1</th>\n",
       "      <td>31.396071</td>\n",
       "      <td>35.198042</td>\n",
       "      <td>76.156892</td>\n",
       "      <td>473.258830</td>\n",
       "    </tr>\n",
       "    <tr>\n",
       "      <th rowspan=\"2\" valign=\"top\">F9</th>\n",
       "      <th>0</th>\n",
       "      <td>0.712575</td>\n",
       "      <td>0.000000</td>\n",
       "      <td>127.636968</td>\n",
       "      <td>963.511728</td>\n",
       "    </tr>\n",
       "    <tr>\n",
       "      <th>1</th>\n",
       "      <td>36.666521</td>\n",
       "      <td>41.190435</td>\n",
       "      <td>133.325718</td>\n",
       "      <td>971.474340</td>\n",
       "    </tr>\n",
       "    <tr>\n",
       "      <th rowspan=\"2\" valign=\"top\">HA</th>\n",
       "      <th>0</th>\n",
       "      <td>0.227465</td>\n",
       "      <td>0.000000</td>\n",
       "      <td>76.062252</td>\n",
       "      <td>572.505647</td>\n",
       "    </tr>\n",
       "    <tr>\n",
       "      <th>1</th>\n",
       "      <td>10.847576</td>\n",
       "      <td>15.379767</td>\n",
       "      <td>98.283343</td>\n",
       "      <td>722.479638</td>\n",
       "    </tr>\n",
       "    <tr>\n",
       "      <th rowspan=\"2\" valign=\"top\">MQ</th>\n",
       "      <th>0</th>\n",
       "      <td>0.620112</td>\n",
       "      <td>0.000000</td>\n",
       "      <td>64.657440</td>\n",
       "      <td>412.625053</td>\n",
       "    </tr>\n",
       "    <tr>\n",
       "      <th>1</th>\n",
       "      <td>34.722728</td>\n",
       "      <td>39.509202</td>\n",
       "      <td>70.912265</td>\n",
       "      <td>439.658026</td>\n",
       "    </tr>\n",
       "    <tr>\n",
       "      <th rowspan=\"2\" valign=\"top\">NK</th>\n",
       "      <th>0</th>\n",
       "      <td>0.921312</td>\n",
       "      <td>0.000000</td>\n",
       "      <td>129.416955</td>\n",
       "      <td>979.394831</td>\n",
       "    </tr>\n",
       "    <tr>\n",
       "      <th>1</th>\n",
       "      <td>37.237277</td>\n",
       "      <td>40.659852</td>\n",
       "      <td>135.351926</td>\n",
       "      <td>992.316997</td>\n",
       "    </tr>\n",
       "    <tr>\n",
       "      <th rowspan=\"2\" valign=\"top\">OO</th>\n",
       "      <th>0</th>\n",
       "      <td>0.465846</td>\n",
       "      <td>0.000000</td>\n",
       "      <td>73.592236</td>\n",
       "      <td>489.536722</td>\n",
       "    </tr>\n",
       "    <tr>\n",
       "      <th>1</th>\n",
       "      <td>29.221687</td>\n",
       "      <td>32.437278</td>\n",
       "      <td>78.941381</td>\n",
       "      <td>510.776371</td>\n",
       "    </tr>\n",
       "    <tr>\n",
       "      <th rowspan=\"2\" valign=\"top\">UA</th>\n",
       "      <th>0</th>\n",
       "      <td>2.038941</td>\n",
       "      <td>0.000000</td>\n",
       "      <td>163.399599</td>\n",
       "      <td>1273.342638</td>\n",
       "    </tr>\n",
       "    <tr>\n",
       "      <th>1</th>\n",
       "      <td>40.965145</td>\n",
       "      <td>39.209314</td>\n",
       "      <td>167.315744</td>\n",
       "      <td>1268.820096</td>\n",
       "    </tr>\n",
       "    <tr>\n",
       "      <th rowspan=\"2\" valign=\"top\">US</th>\n",
       "      <th>0</th>\n",
       "      <td>0.724728</td>\n",
       "      <td>0.000000</td>\n",
       "      <td>122.400304</td>\n",
       "      <td>907.024369</td>\n",
       "    </tr>\n",
       "    <tr>\n",
       "      <th>1</th>\n",
       "      <td>22.033126</td>\n",
       "      <td>27.419925</td>\n",
       "      <td>130.990391</td>\n",
       "      <td>928.298617</td>\n",
       "    </tr>\n",
       "    <tr>\n",
       "      <th rowspan=\"2\" valign=\"top\">VX</th>\n",
       "      <th>0</th>\n",
       "      <td>1.106939</td>\n",
       "      <td>0.000000</td>\n",
       "      <td>187.027922</td>\n",
       "      <td>1458.109879</td>\n",
       "    </tr>\n",
       "    <tr>\n",
       "      <th>1</th>\n",
       "      <td>27.452192</td>\n",
       "      <td>30.725227</td>\n",
       "      <td>175.889992</td>\n",
       "      <td>1322.005707</td>\n",
       "    </tr>\n",
       "    <tr>\n",
       "      <th rowspan=\"2\" valign=\"top\">WN</th>\n",
       "      <th>0</th>\n",
       "      <td>1.203044</td>\n",
       "      <td>0.000000</td>\n",
       "      <td>103.616966</td>\n",
       "      <td>755.189316</td>\n",
       "    </tr>\n",
       "    <tr>\n",
       "      <th>1</th>\n",
       "      <td>30.215718</td>\n",
       "      <td>29.418496</td>\n",
       "      <td>102.253920</td>\n",
       "      <td>719.733845</td>\n",
       "    </tr>\n",
       "  </tbody>\n",
       "</table>\n",
       "</div>"
      ],
      "text/plain": [
       "                           DEP_DELAY_NEW  ARR_DELAY_NEW    AIR_TIME  \\\n",
       "UNIQUE_CARRIER FL_DELAYED                                             \n",
       "AA             0                0.944312       0.000000  137.749305   \n",
       "               1               31.461369      34.148364  143.564096   \n",
       "AS             0                0.602327       0.000000  159.613289   \n",
       "               1               18.470528      22.562411  154.289765   \n",
       "B6             0                1.094005       0.000000  137.888506   \n",
       "               1               35.635091      38.132807  153.225936   \n",
       "DL             0                1.022506       0.000000  113.360538   \n",
       "               1               30.642948      32.077424  121.356961   \n",
       "EV             0                0.469928       0.000000   70.645594   \n",
       "               1               31.396071      35.198042   76.156892   \n",
       "F9             0                0.712575       0.000000  127.636968   \n",
       "               1               36.666521      41.190435  133.325718   \n",
       "HA             0                0.227465       0.000000   76.062252   \n",
       "               1               10.847576      15.379767   98.283343   \n",
       "MQ             0                0.620112       0.000000   64.657440   \n",
       "               1               34.722728      39.509202   70.912265   \n",
       "NK             0                0.921312       0.000000  129.416955   \n",
       "               1               37.237277      40.659852  135.351926   \n",
       "OO             0                0.465846       0.000000   73.592236   \n",
       "               1               29.221687      32.437278   78.941381   \n",
       "UA             0                2.038941       0.000000  163.399599   \n",
       "               1               40.965145      39.209314  167.315744   \n",
       "US             0                0.724728       0.000000  122.400304   \n",
       "               1               22.033126      27.419925  130.990391   \n",
       "VX             0                1.106939       0.000000  187.027922   \n",
       "               1               27.452192      30.725227  175.889992   \n",
       "WN             0                1.203044       0.000000  103.616966   \n",
       "               1               30.215718      29.418496  102.253920   \n",
       "\n",
       "                              DISTANCE  \n",
       "UNIQUE_CARRIER FL_DELAYED               \n",
       "AA             0           1041.007670  \n",
       "               1           1044.866232  \n",
       "AS             0           1231.691464  \n",
       "               1           1132.337050  \n",
       "B6             0           1030.343349  \n",
       "               1           1114.370350  \n",
       "DL             0            845.022508  \n",
       "               1            874.771153  \n",
       "EV             0            454.486940  \n",
       "               1            473.258830  \n",
       "F9             0            963.511728  \n",
       "               1            971.474340  \n",
       "HA             0            572.505647  \n",
       "               1            722.479638  \n",
       "MQ             0            412.625053  \n",
       "               1            439.658026  \n",
       "NK             0            979.394831  \n",
       "               1            992.316997  \n",
       "OO             0            489.536722  \n",
       "               1            510.776371  \n",
       "UA             0           1273.342638  \n",
       "               1           1268.820096  \n",
       "US             0            907.024369  \n",
       "               1            928.298617  \n",
       "VX             0           1458.109879  \n",
       "               1           1322.005707  \n",
       "WN             0            755.189316  \n",
       "               1            719.733845  "
      ]
     },
     "execution_count": 422,
     "metadata": {},
     "output_type": "execute_result"
    }
   ],
   "source": [
    "cleaned_data.loc[:,['CRS_DEP_TIMESTAMP', 'DEP_TIMESTAMP', 'DEP_DELAY_NEW', 'CRS_ARR_TIMESTAMP',\n",
    "                   'ARR_TIMESTAMP', 'ARR_DELAY_NEW', 'AIR_TIME', 'DISTANCE']].groupby([cleaned_data['UNIQUE_CARRIER'], \n",
    "                                                                                       cleaned_data['FL_DELAYED']]).mean()"
   ]
  },
  {
   "cell_type": "markdown",
   "metadata": {},
   "source": [
    "#### Arline distribution plot"
   ]
  },
  {
   "cell_type": "code",
   "execution_count": 67,
   "metadata": {
    "scrolled": true
   },
   "outputs": [
    {
     "data": {
      "image/png": "[encoded data removed]",
      "text/plain": [
       "<matplotlib.figure.Figure at 0x1a5810c1898>"
      ]
     },
     "metadata": {},
     "output_type": "display_data"
    }
   ],
   "source": [
    "sns.countplot(y='UNIQUE_CARRIER', data=cleaned_data)\n",
    "plt.title('Airline Distribution per year')\n",
    "plt.show()"
   ]
  },
  {
   "cell_type": "markdown",
   "metadata": {},
   "source": [
    "##### Inference: \n",
    "- WN, DL, AA, OO, EV, UA have the most number of flights during the year."
   ]
  },
  {
   "cell_type": "markdown",
   "metadata": {},
   "source": [
    "#### Monthly distribution of flights"
   ]
  },
  {
   "cell_type": "code",
   "execution_count": 68,
   "metadata": {},
   "outputs": [
    {
     "data": {
      "image/png": "[encoded data removed]",
      "text/plain": [
       "<matplotlib.figure.Figure at 0x1a58e3a4470>"
      ]
     },
     "metadata": {},
     "output_type": "display_data"
    }
   ],
   "source": [
    "sns.countplot(y='MONTH', data=cleaned_data)\n",
    "plt.title('Monthly distribution of flights')\n",
    "plt.show()"
   ]
  },
  {
   "cell_type": "markdown",
   "metadata": {},
   "source": [
    "##### Inference: \n",
    "- March, June and July seem to be the busiest months."
   ]
  },
  {
   "cell_type": "markdown",
   "metadata": {},
   "source": [
    "#### Actual Arrival Time Distribution"
   ]
  },
  {
   "cell_type": "code",
   "execution_count": 73,
   "metadata": {},
   "outputs": [
    {
     "data": {
      "text/plain": [
       "<matplotlib.legend.Legend at 0x1a58ea49a58>"
      ]
     },
     "execution_count": 73,
     "metadata": {},
     "output_type": "execute_result"
    },
    {
     "data": {
      "image/png": "[encoded data removed]",
      "text/plain": [
       "<matplotlib.figure.Figure at 0x1a58e2036a0>"
      ]
     },
     "metadata": {},
     "output_type": "display_data"
    }
   ],
   "source": [
    "fig, ax = plt.subplots(figsize=(15,5))\n",
    "cleaned_data['FL_NUM'].groupby(cleaned_data['CRS_ARR_TIMESTAMP'].astype('timedelta64[h]')).count().plot(kind=\"line\", color='blue', marker='o', label='Scheduled Arrival')\n",
    "#cleaned_data['FL_NUM'].groupby(cleaned_data['ARR_TIMESTAMP'].astype('timedelta64[h]')).count().plot(kind=\"line\", color='red', label='Actual Arrival')\n",
    "ax.xaxis.set_ticks(np.arange(0, 24, 1))\n",
    "ax.set_xlabel('Hour of Day')\n",
    "ax.set_ylabel('Frequency')\n",
    "plt.title('Scheduled Arrival Time Distribution')\n",
    "plt.legend()"
   ]
  },
  {
   "cell_type": "markdown",
   "metadata": {},
   "source": [
    "##### Inference: \n",
    "- 9 AM to 9 PM seems to be the busiest time frame in a day."
   ]
  },
  {
   "cell_type": "markdown",
   "metadata": {},
   "source": [
    "# Model Building and Testing"
   ]
  },
  {
   "cell_type": "markdown",
   "metadata": {},
   "source": [
    "#### Subsetting Input columns for model building"
   ]
  },
  {
   "cell_type": "code",
   "execution_count": 80,
   "metadata": {},
   "outputs": [],
   "source": [
    "input_cols = ['YEAR', 'QUARTER', 'MONTH', 'DAY_OF_MONTH', 'DAY_OF_WEEK', 'FL_DT',\n",
    "                'UNIQUE_CARRIER', 'FL_NUM', 'ORIGIN', 'ORIGIN_STATE_ABR', 'DEST',\n",
    "                'DEST_STATE_ABR', 'CRS_DEP_TIME', 'DEP_TIME', 'DEP_DELAY_NEW', 'CRS_ARR_TIME',\n",
    "                'ARR_TIME', 'ARR_DELAY_NEW', 'CRS_ELAPSED_TIME', 'ACTUAL_ELAPSED_TIME', 'AIR_TIME', \n",
    "                'FLIGHTS', 'DISTANCE', 'CRS_DEP_TIMESTAMP', 'DEP_TIMESTAMP', 'CRS_ARR_TIMESTAMP',\n",
    "                'ARR_TIMESTAMP', 'FL_DELAYED']"
   ]
  },
  {
   "cell_type": "code",
   "execution_count": 81,
   "metadata": {},
   "outputs": [],
   "source": [
    "input_data = pd.DataFrame(cleaned_data[input_cols])"
   ]
  },
  {
   "cell_type": "markdown",
   "metadata": {},
   "source": [
    "### Generic function to build a classification model and assess performance"
   ]
  },
  {
   "cell_type": "code",
   "execution_count": 83,
   "metadata": {},
   "outputs": [],
   "source": [
    "def classification_model(model, data, predictors, target):\n",
    "    \n",
    "    # Split the data into Train(60%), CV(20%) and Test(20%) datasets.\n",
    "    # sample() function randomly samples from the dataframe.\n",
    "    # split() function splits the randomly sampled data into 2 splits: one at 60% length and other at 80% length.\n",
    "    train_data, cv_data, test_data = np.split(data.sample(frac=1, random_state=1001), [int(.6*len(data)), int(.8*len(data))])\n",
    "    \n",
    "    ###############################\n",
    "    #       TRAIN the model       #\n",
    "    ###############################\n",
    "    \n",
    "    # Fit/train the model on training dataset\n",
    "    model.fit(train_data[predictors], train_data[target])\n",
    "    \n",
    "    # Make predictions on the training dataset\n",
    "    train_prediction = model.predict(train_data[predictors])\n",
    "    \n",
    "    # Measure the training accuracy\n",
    "    train_accuracy = metrics.accuracy_score(train_data[target], train_prediction)\n",
    "    print('Training Accuracy: %s' % \"{0:.3%}\".format(train_accuracy))\n",
    "    \n",
    "    ###############################\n",
    "    #      CROSS-VALIDATION       #\n",
    "    ###############################\n",
    "    \n",
    "    # Run K-fold Cross-validation on CV dataset\n",
    "    kf = KFold(n_splits=3, shuffle=True, random_state=1001)\n",
    "    \n",
    "    error = []\n",
    "    \n",
    "    for trainCV_index, testCV_index in kf.split(cv_data):\n",
    "        # Filter training CV data for predictors\n",
    "        trainCV_predictors = cv_data[predictors].iloc[trainCV_index, :]\n",
    "        \n",
    "        # Filter test CV data for target feature\n",
    "        trainCV_target = cv_data[target].iloc[trainCV_index]\n",
    "        \n",
    "        # Fit/train the model on the CV dataset\n",
    "        model.fit(trainCV_predictors, trainCV_target)\n",
    "        \n",
    "        # Record error from each CV run on CV dataset\n",
    "        error.append(model.score(cv_data[predictors].iloc[testCV_index, :], cv_data[target].iloc[testCV_index]))\n",
    "        \n",
    "    print('Cross-validation score: %s' % \"{0:.3%}\".format(np.mean(error)))\n",
    "    \n",
    "    ###############################\n",
    "    #       TEST the model        #\n",
    "    ###############################\n",
    "    \n",
    "    # Fit/train the model on Test dataset\n",
    "    model.fit(test_data[predictors], test_data[target])\n",
    "    \n",
    "    # Make predictions on the Test dataset\n",
    "    test_prediction = model.predict(test_data[predictors])\n",
    "    \n",
    "    # Measure the Test accuracy\n",
    "    test_accuracy = metrics.accuracy_score(test_data[target], test_prediction)\n",
    "    print('Test Accuracy: %s' % \"{0:.3%}\".format(test_accuracy))\n",
    "    \n",
    "    # Compute the Test confusion matrix. Provding labels so that the matrix treats '1' as a True label.\n",
    "    test_conf_matrix = metrics.confusion_matrix(test_data[target], test_prediction, labels=[1,0])\n",
    "    print('Test Confusion Matrix:\\n', test_conf_matrix)\n",
    "    \n",
    "    # Compute the Test classification report\n",
    "    test_classification_report = metrics.classification_report(test_data[target], test_prediction, \n",
    "                                                               labels=[1,0], target_names=['Delayed', 'Not Delayed'])\n",
    "    print('Test Classification Report:\\n', test_classification_report)\n",
    "    \n",
    "    # Plot the ROC curve\n",
    "    logit_roc_auc = metrics.roc_auc_score(test_data[target], test_prediction)\n",
    "    fpr, tpr, thresholds = metrics.roc_curve(test_data[target], model.predict_proba(test_data[predictors])[:,1], pos_label=1)\n",
    "    plt.figure()\n",
    "    plt.plot(fpr, tpr, label='Logistic Regression (area = %0.2f)' % logit_roc_auc)\n",
    "    plt.plot([0, 1], [0, 1],'r--')\n",
    "    plt.xlim([0.0, 1.0])\n",
    "    plt.ylim([0.0, 1.05])\n",
    "    plt.xlabel('False Positive Rate')\n",
    "    plt.ylabel('True Positive Rate')\n",
    "    plt.title('Receiver operating characteristic')\n",
    "    plt.legend(loc=\"lower right\")\n",
    "    plt.savefig('Log_ROC')\n",
    "    plt.show()\n",
    "    \n",
    "    # Return the learned model\n",
    "    return model"
   ]
  },
  {
   "cell_type": "markdown",
   "metadata": {},
   "source": [
    "#### Converting FL_DT into numeric format equivalent to the number of days from the minimum date in the dataset to feed into the model."
   ]
  },
  {
   "cell_type": "code",
   "execution_count": 84,
   "metadata": {},
   "outputs": [],
   "source": [
    "input_data['FL_DT_DAYS'] = (input_data['FL_DT'] - input_data['FL_DT'].min()) / np.timedelta64(1, 'D')"
   ]
  },
  {
   "cell_type": "markdown",
   "metadata": {},
   "source": [
    "### Model 1: Logistic Regression"
   ]
  },
  {
   "cell_type": "markdown",
   "metadata": {},
   "source": [
    "#### Pre-processing:"
   ]
  },
  {
   "cell_type": "markdown",
   "metadata": {},
   "source": [
    "- Removing multi-collinearity: Convert FL_DT into ordinal fomat and removing YEAR, QUARTER, MONTH, DAY_OF_MONTH, DAY_OF_WEEK from the model input as they represent the same data as FL_DT.\n",
    "- Removing FL_NUM as I think it doesn't add relationship to the predict target variable.\n",
    "- Adding CRS_ELAPSED_TIME and DISTANCE to the input features."
   ]
  },
  {
   "cell_type": "code",
   "execution_count": 85,
   "metadata": {},
   "outputs": [],
   "source": [
    "input_data['FL_DT_ORDINAL'] = input_data['FL_DT'].apply(dt.toordinal)"
   ]
  },
  {
   "cell_type": "code",
   "execution_count": 86,
   "metadata": {},
   "outputs": [
    {
     "name": "stdout",
     "output_type": "stream",
     "text": [
      "Training Accuracy: 78.742%\n",
      "Cross-validation score: 79.515%\n",
      "Test Accuracy: 80.663%\n",
      "Test Confusion Matrix:\n",
      " [[204263 212981]\n",
      " [  8004 717554]]\n",
      "Test Classification Report:\n",
      "              precision    recall  f1-score   support\n",
      "\n",
      "    Delayed       0.96      0.49      0.65    417244\n",
      "Not Delayed       0.77      0.99      0.87    725558\n",
      "\n",
      "avg / total       0.84      0.81      0.79   1142802\n",
      "\n"
     ]
    },
    {
     "data": {
      "image/png": "[encoded data removed]",
      "text/plain": [
       "<matplotlib.figure.Figure at 0x1a58ee59208>"
      ]
     },
     "metadata": {},
     "output_type": "display_data"
    }
   ],
   "source": [
    "model = LogisticRegression()\n",
    "target_var = 'FL_DELAYED'\n",
    "predictors_var = ['FL_DT_ORDINAL', 'FL_NUM', 'FL_DT_DAYS', 'DEP_DELAY_NEW', 'CRS_ELAPSED_TIME','DISTANCE']\n",
    "logreg = classification_model(model, input_data, predictors_var, target_var)"
   ]
  },
  {
   "cell_type": "markdown",
   "metadata": {},
   "source": [
    "### Model 2: Decision Tree Classifier"
   ]
  },
  {
   "cell_type": "markdown",
   "metadata": {},
   "source": [
    "Removing FL_DT_DAYS as it might represent same information as FL_DT_ORDINAL"
   ]
  },
  {
   "cell_type": "code",
   "execution_count": 519,
   "metadata": {},
   "outputs": [
    {
     "name": "stdout",
     "output_type": "stream",
     "text": [
      "Training Accuracy: 99.981%\n",
      "Cross-validation score: 74.844%\n",
      "Test Accuracy: 99.993%\n",
      "Test Confusion Matrix:\n",
      " [[417161     83]\n",
      " [     0 725558]]\n",
      "Test Classification Report:\n",
      "              precision    recall  f1-score   support\n",
      "\n",
      "    Delayed       1.00      1.00      1.00    417244\n",
      "Not Delayed       1.00      1.00      1.00    725558\n",
      "\n",
      "avg / total       1.00      1.00      1.00   1142802\n",
      "\n"
     ]
    },
    {
     "data": {
      "image/png": "[encoded data removed]",
      "text/plain": [
       "<matplotlib.figure.Figure at 0x258f031c550>"
      ]
     },
     "metadata": {},
     "output_type": "display_data"
    }
   ],
   "source": [
    "model = DecisionTreeClassifier()\n",
    "target_var = 'FL_DELAYED'\n",
    "predictors_var = ['FL_DT_ORDINAL', 'FL_NUM', 'DEP_DELAY_NEW', 'CRS_ELAPSED_TIME', 'DISTANCE']\n",
    "\n",
    "# Returns the learned model\n",
    "dtc = classification_model(model, input_data, predictors_var, target_var)"
   ]
  },
  {
   "cell_type": "markdown",
   "metadata": {},
   "source": [
    "### Model 3: Random Forest Classifier"
   ]
  },
  {
   "cell_type": "code",
   "execution_count": 98,
   "metadata": {},
   "outputs": [
    {
     "name": "stdout",
     "output_type": "stream",
     "text": [
      "Training Accuracy: 98.063%\n",
      "Cross-validation score: 80.835%\n",
      "Test Accuracy: 98.061%\n",
      "Test Confusion Matrix:\n",
      " [[396606  20638]\n",
      " [  1516 724042]]\n",
      "Test Classification Report:\n",
      "              precision    recall  f1-score   support\n",
      "\n",
      "    Delayed       1.00      0.95      0.97    417244\n",
      "Not Delayed       0.97      1.00      0.98    725558\n",
      "\n",
      "avg / total       0.98      0.98      0.98   1142802\n",
      "\n"
     ]
    },
    {
     "data": {
      "image/png": "[encoded data removed]",
      "text/plain": [
       "<matplotlib.figure.Figure at 0x1a58e2375f8>"
      ]
     },
     "metadata": {},
     "output_type": "display_data"
    }
   ],
   "source": [
    "model = RandomForestClassifier()\n",
    "target_var = 'FL_DELAYED'\n",
    "predictors_var = ['FL_DT_ORDINAL', 'FL_NUM', 'DEP_DELAY_NEW', 'CRS_ELAPSED_TIME', 'DISTANCE']\n",
    "\n",
    "# Returns the learned model\n",
    "rfc = classification_model(model, input_data, predictors_var, target_var)"
   ]
  },
  {
   "cell_type": "markdown",
   "metadata": {},
   "source": [
    "#### Feature Importance"
   ]
  },
  {
   "cell_type": "code",
   "execution_count": 193,
   "metadata": {},
   "outputs": [],
   "source": [
    "df_feature_imp = pd.DataFrame(rfc.feature_importances_, index = predictors_var, columns = ['Feature_Importance'])"
   ]
  },
  {
   "cell_type": "code",
   "execution_count": 194,
   "metadata": {},
   "outputs": [],
   "source": [
    "df_feature_imp.sort_values(by = 'Feature_Importance', ascending = False, inplace = True)"
   ]
  },
  {
   "cell_type": "code",
   "execution_count": 195,
   "metadata": {},
   "outputs": [
    {
     "data": {
      "text/html": [
       "<div>\n",
       "<style scoped>\n",
       "    .dataframe tbody tr th:only-of-type {\n",
       "        vertical-align: middle;\n",
       "    }\n",
       "\n",
       "    .dataframe tbody tr th {\n",
       "        vertical-align: top;\n",
       "    }\n",
       "\n",
       "    .dataframe thead th {\n",
       "        text-align: right;\n",
       "    }\n",
       "</style>\n",
       "<table border=\"1\" class=\"dataframe\">\n",
       "  <thead>\n",
       "    <tr style=\"text-align: right;\">\n",
       "      <th></th>\n",
       "      <th>Feature_Importance</th>\n",
       "    </tr>\n",
       "  </thead>\n",
       "  <tbody>\n",
       "    <tr>\n",
       "      <th>DEP_DELAY_NEW</th>\n",
       "      <td>0.433637</td>\n",
       "    </tr>\n",
       "    <tr>\n",
       "      <th>FL_DT_ORDINAL</th>\n",
       "      <td>0.197912</td>\n",
       "    </tr>\n",
       "    <tr>\n",
       "      <th>FL_NUM</th>\n",
       "      <td>0.148707</td>\n",
       "    </tr>\n",
       "    <tr>\n",
       "      <th>DISTANCE</th>\n",
       "      <td>0.113851</td>\n",
       "    </tr>\n",
       "    <tr>\n",
       "      <th>CRS_ELAPSED_TIME</th>\n",
       "      <td>0.105893</td>\n",
       "    </tr>\n",
       "  </tbody>\n",
       "</table>\n",
       "</div>"
      ],
      "text/plain": [
       "                  Feature_Importance\n",
       "DEP_DELAY_NEW               0.433637\n",
       "FL_DT_ORDINAL               0.197912\n",
       "FL_NUM                      0.148707\n",
       "DISTANCE                    0.113851\n",
       "CRS_ELAPSED_TIME            0.105893"
      ]
     },
     "execution_count": 195,
     "metadata": {},
     "output_type": "execute_result"
    }
   ],
   "source": [
    "df_feature_imp"
   ]
  },
  {
   "cell_type": "code",
   "execution_count": 197,
   "metadata": {},
   "outputs": [
    {
     "data": {
      "image/png": "[encoded data removed]",
      "text/plain": [
       "<matplotlib.figure.Figure at 0x1a70ef567b8>"
      ]
     },
     "metadata": {},
     "output_type": "display_data"
    }
   ],
   "source": [
    "f, ax = plt.subplots(figsize=(10, 5))\n",
    "ax = sns.barplot(y = df_feature_imp.index, x = df_feature_imp['Feature_Importance'])\n",
    "plt.title('Feature Importance of Predictor Variables')\n",
    "plt.savefig('Feature_Imp_Plot')\n",
    "plt.show()"
   ]
  },
  {
   "cell_type": "markdown",
   "metadata": {},
   "source": [
    "##### Inference:\n",
    "- \"Delay in Depature time\" of the flight is the most important feature to predict whether a flight will arrive late (i.e., Delayed) or arrive on time (i.e., not delayed) at the Destination Airport."
   ]
  }
 ],
 "metadata": {
  "kernelspec": {
   "display_name": "Python 3",
   "language": "python",
   "name": "python3"
  },
  "language_info": {
   "codemirror_mode": {
    "name": "ipython",
    "version": 3
   },
   "file_extension": ".py",
   "mimetype": "text/x-python",
   "name": "python",
   "nbconvert_exporter": "python",
   "pygments_lexer": "ipython3",
   "version": "3.6.4"
  }
 },
 "nbformat": 4,
 "nbformat_minor": 2
}
